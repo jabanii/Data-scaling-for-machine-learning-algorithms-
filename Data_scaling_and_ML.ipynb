{
  "cells": [
    {
      "cell_type": "code",
      "execution_count": null,
      "metadata": {
        "colab": {
          "base_uri": "https://localhost:8080/"
        },
        "id": "FrlWuH4c5f2H",
        "outputId": "b9184f5c-f1ab-4ca9-b71d-6d1a3413370b"
      },
      "outputs": [
        {
          "name": "stdout",
          "output_type": "stream",
          "text": [
            "Looking in indexes: https://pypi.org/simple, https://us-python.pkg.dev/colab-wheels/public/simple/\n",
            "Requirement already satisfied: pandas in /usr/local/lib/python3.7/dist-packages (1.3.5)\n",
            "Requirement already satisfied: python-dateutil>=2.7.3 in /usr/local/lib/python3.7/dist-packages (from pandas) (2.8.2)\n",
            "Requirement already satisfied: numpy>=1.17.3 in /usr/local/lib/python3.7/dist-packages (from pandas) (1.21.6)\n",
            "Requirement already satisfied: pytz>=2017.3 in /usr/local/lib/python3.7/dist-packages (from pandas) (2022.2.1)\n",
            "Requirement already satisfied: six>=1.5 in /usr/local/lib/python3.7/dist-packages (from python-dateutil>=2.7.3->pandas) (1.15.0)\n",
            "Looking in indexes: https://pypi.org/simple, https://us-python.pkg.dev/colab-wheels/public/simple/\n",
            "Requirement already satisfied: pandas-datareader in /usr/local/lib/python3.7/dist-packages (0.9.0)\n",
            "Collecting pandas-datareader\n",
            "  Downloading pandas_datareader-0.10.0-py3-none-any.whl (109 kB)\n",
            "\u001b[K     |████████████████████████████████| 109 kB 5.1 MB/s \n",
            "\u001b[?25hRequirement already satisfied: requests>=2.19.0 in /usr/local/lib/python3.7/dist-packages (from pandas-datareader) (2.23.0)\n",
            "Requirement already satisfied: lxml in /usr/local/lib/python3.7/dist-packages (from pandas-datareader) (4.9.1)\n",
            "Requirement already satisfied: pandas>=0.23 in /usr/local/lib/python3.7/dist-packages (from pandas-datareader) (1.3.5)\n",
            "Requirement already satisfied: numpy>=1.17.3 in /usr/local/lib/python3.7/dist-packages (from pandas>=0.23->pandas-datareader) (1.21.6)\n",
            "Requirement already satisfied: python-dateutil>=2.7.3 in /usr/local/lib/python3.7/dist-packages (from pandas>=0.23->pandas-datareader) (2.8.2)\n",
            "Requirement already satisfied: pytz>=2017.3 in /usr/local/lib/python3.7/dist-packages (from pandas>=0.23->pandas-datareader) (2022.2.1)\n",
            "Requirement already satisfied: six>=1.5 in /usr/local/lib/python3.7/dist-packages (from python-dateutil>=2.7.3->pandas>=0.23->pandas-datareader) (1.15.0)\n",
            "Requirement already satisfied: idna<3,>=2.5 in /usr/local/lib/python3.7/dist-packages (from requests>=2.19.0->pandas-datareader) (2.10)\n",
            "Requirement already satisfied: chardet<4,>=3.0.2 in /usr/local/lib/python3.7/dist-packages (from requests>=2.19.0->pandas-datareader) (3.0.4)\n",
            "Requirement already satisfied: urllib3!=1.25.0,!=1.25.1,<1.26,>=1.21.1 in /usr/local/lib/python3.7/dist-packages (from requests>=2.19.0->pandas-datareader) (1.24.3)\n",
            "Requirement already satisfied: certifi>=2017.4.17 in /usr/local/lib/python3.7/dist-packages (from requests>=2.19.0->pandas-datareader) (2022.6.15)\n",
            "Installing collected packages: pandas-datareader\n",
            "  Attempting uninstall: pandas-datareader\n",
            "    Found existing installation: pandas-datareader 0.9.0\n",
            "    Uninstalling pandas-datareader-0.9.0:\n",
            "      Successfully uninstalled pandas-datareader-0.9.0\n",
            "Successfully installed pandas-datareader-0.10.0\n"
          ]
        }
      ],
      "source": [
        "!pip install --upgrade pandas\n",
        "!pip install --upgrade pandas-datareader"
      ]
    },
    {
      "cell_type": "code",
      "execution_count": null,
      "metadata": {
        "colab": {
          "base_uri": "https://localhost:8080/"
        },
        "id": "f1Yc5drFKAsM",
        "outputId": "5c406db9-069b-4c72-9a04-8c797263d444"
      },
      "outputs": [
        {
          "name": "stdout",
          "output_type": "stream",
          "text": [
            "Looking in indexes: https://pypi.org/simple, https://us-python.pkg.dev/colab-wheels/public/simple/\n",
            "Collecting yfinance\n",
            "  Downloading yfinance-0.1.74-py2.py3-none-any.whl (27 kB)\n",
            "Requirement already satisfied: multitasking>=0.0.7 in /usr/local/lib/python3.7/dist-packages (from yfinance) (0.0.11)\n",
            "Collecting requests>=2.26\n",
            "  Downloading requests-2.28.1-py3-none-any.whl (62 kB)\n",
            "\u001b[K     |████████████████████████████████| 62 kB 1.2 MB/s \n",
            "\u001b[?25hRequirement already satisfied: pandas>=0.24.0 in /usr/local/lib/python3.7/dist-packages (from yfinance) (1.3.5)\n",
            "Requirement already satisfied: numpy>=1.15 in /usr/local/lib/python3.7/dist-packages (from yfinance) (1.21.6)\n",
            "Requirement already satisfied: lxml>=4.5.1 in /usr/local/lib/python3.7/dist-packages (from yfinance) (4.9.1)\n",
            "Requirement already satisfied: pytz>=2017.3 in /usr/local/lib/python3.7/dist-packages (from pandas>=0.24.0->yfinance) (2022.2.1)\n",
            "Requirement already satisfied: python-dateutil>=2.7.3 in /usr/local/lib/python3.7/dist-packages (from pandas>=0.24.0->yfinance) (2.8.2)\n",
            "Requirement already satisfied: six>=1.5 in /usr/local/lib/python3.7/dist-packages (from python-dateutil>=2.7.3->pandas>=0.24.0->yfinance) (1.15.0)\n",
            "Requirement already satisfied: urllib3<1.27,>=1.21.1 in /usr/local/lib/python3.7/dist-packages (from requests>=2.26->yfinance) (1.24.3)\n",
            "Requirement already satisfied: idna<4,>=2.5 in /usr/local/lib/python3.7/dist-packages (from requests>=2.26->yfinance) (2.10)\n",
            "Requirement already satisfied: charset-normalizer<3,>=2 in /usr/local/lib/python3.7/dist-packages (from requests>=2.26->yfinance) (2.1.1)\n",
            "Requirement already satisfied: certifi>=2017.4.17 in /usr/local/lib/python3.7/dist-packages (from requests>=2.26->yfinance) (2022.6.15)\n",
            "Installing collected packages: requests, yfinance\n",
            "  Attempting uninstall: requests\n",
            "    Found existing installation: requests 2.23.0\n",
            "    Uninstalling requests-2.23.0:\n",
            "      Successfully uninstalled requests-2.23.0\n",
            "Successfully installed requests-2.28.1 yfinance-0.1.74\n"
          ]
        }
      ],
      "source": [
        "!pip install yfinance \n"
      ]
    },
    {
      "cell_type": "code",
      "execution_count": null,
      "metadata": {
        "id": "DlC4b91V1kBd"
      },
      "outputs": [],
      "source": [
        "import sys\n",
        "\n",
        "import numpy as np\n",
        "import matplotlib.pyplot as plt\n",
        "import pandas as pd\n",
        "import pandas_datareader as web\n",
        "import datetime as dt\n",
        "import seaborn as sns\n",
        "import math\n",
        "\n",
        "\n",
        "# Scaling libraries\n",
        "from sklearn.preprocessing import MinMaxScaler, Normalizer, StandardScaler, MaxAbsScaler, RobustScaler\n",
        "from sklearn.preprocessing import QuantileTransformer, Binarizer\n",
        "\n",
        "# Machine learning libraries\n",
        "from tensorflow.keras.models import Sequential\n",
        "from tensorflow.keras.layers import Dense, Dropout, LSTM\n",
        "\n",
        "from sklearn.linear_model import LinearRegression, LogisticRegression\n",
        "from sklearn import svm\n",
        "from sklearn.neighbors import KNeighborsRegressor\n",
        "from sklearn.naive_bayes import GaussianNB\n",
        "from sklearn.tree import DecisionTreeClassifier, DecisionTreeRegressor,ExtraTreeClassifier\n",
        "from sklearn.ensemble import RandomForestClassifier, AdaBoostRegressor, GradientBoostingClassifier\n",
        "from sklearn.discriminant_analysis import LinearDiscriminantAnalysis\n",
        "\n",
        "\n",
        "# evaluation libraries\n",
        "import sklearn.metrics as metrics\n",
        "\n",
        "\n",
        "import warnings\n",
        "warnings.filterwarnings(\"ignore\")"
      ]
    },
    {
      "cell_type": "code",
      "execution_count": null,
      "metadata": {
        "id": "oY8Q28byMBjK"
      },
      "outputs": [],
      "source": [
        "from sklearn import metrics\n",
        "from sklearn.model_selection import cross_val_score"
      ]
    },
    {
      "cell_type": "code",
      "execution_count": null,
      "metadata": {
        "id": "QdodJTItTR8y"
      },
      "outputs": [],
      "source": [
        "from sklearn.svm import SVR "
      ]
    },
    {
      "cell_type": "code",
      "execution_count": null,
      "metadata": {
        "id": "wuGUMqvmJ-vC"
      },
      "outputs": [],
      "source": [
        "import yfinance as yf\n",
        "yf.pdr_override()"
      ]
    },
    {
      "cell_type": "code",
      "execution_count": null,
      "metadata": {
        "id": "FP9ZQQDO1xHq"
      },
      "outputs": [],
      "source": [
        "from sklearn.model_selection import train_test_split"
      ]
    },
    {
      "cell_type": "code",
      "execution_count": null,
      "metadata": {
        "id": "Oy55FYpo1zIV"
      },
      "outputs": [],
      "source": [
        "ticker = \"\""
      ]
    },
    {
      "cell_type": "code",
      "execution_count": null,
      "metadata": {
        "id": "EPoaPzu_147r"
      },
      "outputs": [],
      "source": [
        "# Input details to check\n",
        "\n",
        "# Input Start Date\n",
        "def start_date():\n",
        "    date_entry = input('Enter a starting date in MM/DD/YYYY format: ')\n",
        "    start = dt.datetime.strptime(date_entry,'%m/%d/%Y')\n",
        "    start = start.strftime('%Y-%m-%d')\n",
        "    return start\n",
        "\n",
        "# Input End Date\n",
        "def end_date():\n",
        "    date_entry = input('Enter a ending date in MM/DD/YYYY format: ')\n",
        "    end = dt.datetime.strptime(date_entry,'%m/%d/%Y')\n",
        "    end = end.strftime('%Y-%m-%d')\n",
        "    return end\n",
        "\n",
        "# Input Symbols\n",
        "def input_symbol():\n",
        "    symbol = input(\"Enter symbol: \").upper()\n",
        "    return symbol"
      ]
    },
    {
      "cell_type": "code",
      "execution_count": null,
      "metadata": {
        "id": "W0Y3UB8717fB"
      },
      "outputs": [],
      "source": [
        "def load_data():\n",
        "\n",
        "    start = start_date()\n",
        "    end = end_date()\n",
        "    ticker = input_symbol()\n",
        "\n",
        "    \n",
        "    data = web.DataReader(ticker, 'yahoo', start, end)\n",
        "    #data = yf.download(ticker, start, end)\n",
        "    \n",
        "    return data"
      ]
    },
    {
      "cell_type": "code",
      "execution_count": null,
      "metadata": {
        "colab": {
          "base_uri": "https://localhost:8080/",
          "height": 507
        },
        "id": "0V40dqB_19xX",
        "outputId": "31bc9668-0724-4864-f6ce-708781c06b9b"
      },
      "outputs": [
        {
          "name": "stdout",
          "output_type": "stream",
          "text": [
            "Enter a starting date in MM/DD/YYYY format: 01/01/2011\n",
            "Enter a ending date in MM/DD/YYYY format: 01/01/2022\n",
            "Enter symbol: amzn\n"
          ]
        },
        {
          "data": {
            "text/html": [
              "\n",
              "  <div id=\"df-dd685566-55e3-4d2d-bf16-55f02e1cb57b\">\n",
              "    <div class=\"colab-df-container\">\n",
              "      <div>\n",
              "<style scoped>\n",
              "    .dataframe tbody tr th:only-of-type {\n",
              "        vertical-align: middle;\n",
              "    }\n",
              "\n",
              "    .dataframe tbody tr th {\n",
              "        vertical-align: top;\n",
              "    }\n",
              "\n",
              "    .dataframe thead th {\n",
              "        text-align: right;\n",
              "    }\n",
              "</style>\n",
              "<table border=\"1\" class=\"dataframe\">\n",
              "  <thead>\n",
              "    <tr style=\"text-align: right;\">\n",
              "      <th></th>\n",
              "      <th>High</th>\n",
              "      <th>Low</th>\n",
              "      <th>Open</th>\n",
              "      <th>Close</th>\n",
              "      <th>Volume</th>\n",
              "      <th>Adj Close</th>\n",
              "    </tr>\n",
              "    <tr>\n",
              "      <th>Date</th>\n",
              "      <th></th>\n",
              "      <th></th>\n",
              "      <th></th>\n",
              "      <th></th>\n",
              "      <th></th>\n",
              "      <th></th>\n",
              "    </tr>\n",
              "  </thead>\n",
              "  <tbody>\n",
              "    <tr>\n",
              "      <th>2011-01-03</th>\n",
              "      <td>9.300000</td>\n",
              "      <td>9.060500</td>\n",
              "      <td>9.068500</td>\n",
              "      <td>9.211000</td>\n",
              "      <td>106628000</td>\n",
              "      <td>9.211000</td>\n",
              "    </tr>\n",
              "    <tr>\n",
              "      <th>2011-01-04</th>\n",
              "      <td>9.385000</td>\n",
              "      <td>9.189000</td>\n",
              "      <td>9.307500</td>\n",
              "      <td>9.250500</td>\n",
              "      <td>100636000</td>\n",
              "      <td>9.250500</td>\n",
              "    </tr>\n",
              "    <tr>\n",
              "      <th>2011-01-05</th>\n",
              "      <td>9.372500</td>\n",
              "      <td>9.203500</td>\n",
              "      <td>9.205000</td>\n",
              "      <td>9.371000</td>\n",
              "      <td>68376000</td>\n",
              "      <td>9.371000</td>\n",
              "    </tr>\n",
              "    <tr>\n",
              "      <th>2011-01-06</th>\n",
              "      <td>9.370500</td>\n",
              "      <td>9.262500</td>\n",
              "      <td>9.325000</td>\n",
              "      <td>9.293000</td>\n",
              "      <td>63594000</td>\n",
              "      <td>9.293000</td>\n",
              "    </tr>\n",
              "    <tr>\n",
              "      <th>2011-01-07</th>\n",
              "      <td>9.422500</td>\n",
              "      <td>9.187000</td>\n",
              "      <td>9.394000</td>\n",
              "      <td>9.274500</td>\n",
              "      <td>104434000</td>\n",
              "      <td>9.274500</td>\n",
              "    </tr>\n",
              "    <tr>\n",
              "      <th>...</th>\n",
              "      <td>...</td>\n",
              "      <td>...</td>\n",
              "      <td>...</td>\n",
              "      <td>...</td>\n",
              "      <td>...</td>\n",
              "      <td>...</td>\n",
              "    </tr>\n",
              "    <tr>\n",
              "      <th>2021-12-27</th>\n",
              "      <td>172.942993</td>\n",
              "      <td>169.215500</td>\n",
              "      <td>171.037003</td>\n",
              "      <td>169.669495</td>\n",
              "      <td>58688000</td>\n",
              "      <td>169.669495</td>\n",
              "    </tr>\n",
              "    <tr>\n",
              "      <th>2021-12-28</th>\n",
              "      <td>172.175995</td>\n",
              "      <td>169.135498</td>\n",
              "      <td>170.182495</td>\n",
              "      <td>170.660995</td>\n",
              "      <td>54638000</td>\n",
              "      <td>170.660995</td>\n",
              "    </tr>\n",
              "    <tr>\n",
              "      <th>2021-12-29</th>\n",
              "      <td>171.212006</td>\n",
              "      <td>168.600494</td>\n",
              "      <td>170.839996</td>\n",
              "      <td>169.201004</td>\n",
              "      <td>35754000</td>\n",
              "      <td>169.201004</td>\n",
              "    </tr>\n",
              "    <tr>\n",
              "      <th>2021-12-30</th>\n",
              "      <td>170.888000</td>\n",
              "      <td>168.524002</td>\n",
              "      <td>169.699997</td>\n",
              "      <td>168.644501</td>\n",
              "      <td>37584000</td>\n",
              "      <td>168.644501</td>\n",
              "    </tr>\n",
              "    <tr>\n",
              "      <th>2021-12-31</th>\n",
              "      <td>169.350006</td>\n",
              "      <td>166.558502</td>\n",
              "      <td>168.955994</td>\n",
              "      <td>166.716995</td>\n",
              "      <td>47830000</td>\n",
              "      <td>166.716995</td>\n",
              "    </tr>\n",
              "  </tbody>\n",
              "</table>\n",
              "<p>2769 rows × 6 columns</p>\n",
              "</div>\n",
              "      <button class=\"colab-df-convert\" onclick=\"convertToInteractive('df-dd685566-55e3-4d2d-bf16-55f02e1cb57b')\"\n",
              "              title=\"Convert this dataframe to an interactive table.\"\n",
              "              style=\"display:none;\">\n",
              "        \n",
              "  <svg xmlns=\"http://www.w3.org/2000/svg\" height=\"24px\"viewBox=\"0 0 24 24\"\n",
              "       width=\"24px\">\n",
              "    <path d=\"M0 0h24v24H0V0z\" fill=\"none\"/>\n",
              "    <path d=\"M18.56 5.44l.94 2.06.94-2.06 2.06-.94-2.06-.94-.94-2.06-.94 2.06-2.06.94zm-11 1L8.5 8.5l.94-2.06 2.06-.94-2.06-.94L8.5 2.5l-.94 2.06-2.06.94zm10 10l.94 2.06.94-2.06 2.06-.94-2.06-.94-.94-2.06-.94 2.06-2.06.94z\"/><path d=\"M17.41 7.96l-1.37-1.37c-.4-.4-.92-.59-1.43-.59-.52 0-1.04.2-1.43.59L10.3 9.45l-7.72 7.72c-.78.78-.78 2.05 0 2.83L4 21.41c.39.39.9.59 1.41.59.51 0 1.02-.2 1.41-.59l7.78-7.78 2.81-2.81c.8-.78.8-2.07 0-2.86zM5.41 20L4 18.59l7.72-7.72 1.47 1.35L5.41 20z\"/>\n",
              "  </svg>\n",
              "      </button>\n",
              "      \n",
              "  <style>\n",
              "    .colab-df-container {\n",
              "      display:flex;\n",
              "      flex-wrap:wrap;\n",
              "      gap: 12px;\n",
              "    }\n",
              "\n",
              "    .colab-df-convert {\n",
              "      background-color: #E8F0FE;\n",
              "      border: none;\n",
              "      border-radius: 50%;\n",
              "      cursor: pointer;\n",
              "      display: none;\n",
              "      fill: #1967D2;\n",
              "      height: 32px;\n",
              "      padding: 0 0 0 0;\n",
              "      width: 32px;\n",
              "    }\n",
              "\n",
              "    .colab-df-convert:hover {\n",
              "      background-color: #E2EBFA;\n",
              "      box-shadow: 0px 1px 2px rgba(60, 64, 67, 0.3), 0px 1px 3px 1px rgba(60, 64, 67, 0.15);\n",
              "      fill: #174EA6;\n",
              "    }\n",
              "\n",
              "    [theme=dark] .colab-df-convert {\n",
              "      background-color: #3B4455;\n",
              "      fill: #D2E3FC;\n",
              "    }\n",
              "\n",
              "    [theme=dark] .colab-df-convert:hover {\n",
              "      background-color: #434B5C;\n",
              "      box-shadow: 0px 1px 3px 1px rgba(0, 0, 0, 0.15);\n",
              "      filter: drop-shadow(0px 1px 2px rgba(0, 0, 0, 0.3));\n",
              "      fill: #FFFFFF;\n",
              "    }\n",
              "  </style>\n",
              "\n",
              "      <script>\n",
              "        const buttonEl =\n",
              "          document.querySelector('#df-dd685566-55e3-4d2d-bf16-55f02e1cb57b button.colab-df-convert');\n",
              "        buttonEl.style.display =\n",
              "          google.colab.kernel.accessAllowed ? 'block' : 'none';\n",
              "\n",
              "        async function convertToInteractive(key) {\n",
              "          const element = document.querySelector('#df-dd685566-55e3-4d2d-bf16-55f02e1cb57b');\n",
              "          const dataTable =\n",
              "            await google.colab.kernel.invokeFunction('convertToInteractive',\n",
              "                                                     [key], {});\n",
              "          if (!dataTable) return;\n",
              "\n",
              "          const docLinkHtml = 'Like what you see? Visit the ' +\n",
              "            '<a target=\"_blank\" href=https://colab.research.google.com/notebooks/data_table.ipynb>data table notebook</a>'\n",
              "            + ' to learn more about interactive tables.';\n",
              "          element.innerHTML = '';\n",
              "          dataTable['output_type'] = 'display_data';\n",
              "          await google.colab.output.renderOutput(dataTable, element);\n",
              "          const docLink = document.createElement('div');\n",
              "          docLink.innerHTML = docLinkHtml;\n",
              "          element.appendChild(docLink);\n",
              "        }\n",
              "      </script>\n",
              "    </div>\n",
              "  </div>\n",
              "  "
            ],
            "text/plain": [
              "                  High         Low        Open       Close     Volume  \\\n",
              "Date                                                                    \n",
              "2011-01-03    9.300000    9.060500    9.068500    9.211000  106628000   \n",
              "2011-01-04    9.385000    9.189000    9.307500    9.250500  100636000   \n",
              "2011-01-05    9.372500    9.203500    9.205000    9.371000   68376000   \n",
              "2011-01-06    9.370500    9.262500    9.325000    9.293000   63594000   \n",
              "2011-01-07    9.422500    9.187000    9.394000    9.274500  104434000   \n",
              "...                ...         ...         ...         ...        ...   \n",
              "2021-12-27  172.942993  169.215500  171.037003  169.669495   58688000   \n",
              "2021-12-28  172.175995  169.135498  170.182495  170.660995   54638000   \n",
              "2021-12-29  171.212006  168.600494  170.839996  169.201004   35754000   \n",
              "2021-12-30  170.888000  168.524002  169.699997  168.644501   37584000   \n",
              "2021-12-31  169.350006  166.558502  168.955994  166.716995   47830000   \n",
              "\n",
              "             Adj Close  \n",
              "Date                    \n",
              "2011-01-03    9.211000  \n",
              "2011-01-04    9.250500  \n",
              "2011-01-05    9.371000  \n",
              "2011-01-06    9.293000  \n",
              "2011-01-07    9.274500  \n",
              "...                ...  \n",
              "2021-12-27  169.669495  \n",
              "2021-12-28  170.660995  \n",
              "2021-12-29  169.201004  \n",
              "2021-12-30  168.644501  \n",
              "2021-12-31  166.716995  \n",
              "\n",
              "[2769 rows x 6 columns]"
            ]
          },
          "execution_count": 11,
          "metadata": {},
          "output_type": "execute_result"
        }
      ],
      "source": [
        "# training data \n",
        "traindata = load_data()\n",
        "\n",
        "#show data\n",
        "traindata"
      ]
    },
    {
      "cell_type": "code",
      "execution_count": null,
      "metadata": {
        "colab": {
          "base_uri": "https://localhost:8080/"
        },
        "id": "-t2jUVYH3gUH",
        "outputId": "65f7ba7b-504c-4b75-8901-1a8e03afa68e"
      },
      "outputs": [
        {
          "data": {
            "text/plain": [
              "(2769, 6)"
            ]
          },
          "execution_count": 12,
          "metadata": {},
          "output_type": "execute_result"
        }
      ],
      "source": [
        "traindata.shape"
      ]
    },
    {
      "cell_type": "code",
      "execution_count": null,
      "metadata": {
        "colab": {
          "base_uri": "https://localhost:8080/"
        },
        "id": "ZJB9M3P63i8i",
        "outputId": "3a8a89a1-087d-49b1-e9c0-e218a27104da"
      },
      "outputs": [
        {
          "name": "stdout",
          "output_type": "stream",
          "text": [
            "<class 'pandas.core.frame.DataFrame'>\n",
            "DatetimeIndex: 2769 entries, 2011-01-03 to 2021-12-31\n",
            "Data columns (total 6 columns):\n",
            " #   Column     Non-Null Count  Dtype  \n",
            "---  ------     --------------  -----  \n",
            " 0   High       2769 non-null   float64\n",
            " 1   Low        2769 non-null   float64\n",
            " 2   Open       2769 non-null   float64\n",
            " 3   Close      2769 non-null   float64\n",
            " 4   Volume     2769 non-null   int64  \n",
            " 5   Adj Close  2769 non-null   float64\n",
            "dtypes: float64(5), int64(1)\n",
            "memory usage: 151.4 KB\n",
            "None\n"
          ]
        }
      ],
      "source": [
        "# Dataset description\n",
        "print(traindata.info())"
      ]
    },
    {
      "cell_type": "code",
      "execution_count": null,
      "metadata": {
        "colab": {
          "base_uri": "https://localhost:8080/",
          "height": 295
        },
        "id": "pg9Ru4TY3klE",
        "outputId": "fafaef26-4b9e-4cf2-c9b6-d5d20342fe10"
      },
      "outputs": [
        {
          "data": {
            "image/png": "[encoded data removed]",
            "text/plain": [
              "<Figure size 432x288 with 1 Axes>"
            ]
          },
          "metadata": {},
          "output_type": "display_data"
        }
      ],
      "source": [
        "# viaualise \"Close\" attribute\n",
        "closeplot = traindata['Close'].copy()\n",
        "\n",
        "plt.plot(closeplot, color=\"green\", label=f\"Close {ticker} price\")\n",
        "plt.title(f\"{ticker} Share Close Price \")\n",
        "plt.xlabel('Time')\n",
        "plt.ylabel(f'{ticker} Share Price')\n",
        "plt.legend()\n",
        "plt.show()"
      ]
    },
    {
      "cell_type": "code",
      "execution_count": null,
      "metadata": {
        "colab": {
          "base_uri": "https://localhost:8080/",
          "height": 499
        },
        "id": "QSqMHhNn3o23",
        "outputId": "af9d8877-582a-4e72-c196-a07e042c7945"
      },
      "outputs": [
        {
          "data": {
            "image/png": "[encoded data removed]",
            "text/plain": [
              "<Figure size 1440x576 with 4 Axes>"
            ]
          },
          "metadata": {},
          "output_type": "display_data"
        }
      ],
      "source": [
        "# Visualising the data with Pearson's and Spearman's Correlation Coefficent\n",
        "# this was done to find columns (independent variables) in the dataset which \n",
        "# affect the expenditure (dependent variable)\n",
        "plt.figure(figsize=(20, 8)) \n",
        "plt.subplot(1, 2, 1)\n",
        "corr = traindata.corr(method = 'pearson')\n",
        "sns.heatmap(corr, annot = True)\n",
        "plt.title(\"Pearson Correlation\")\n",
        "\n",
        "plt.subplot(1, 2, 2)\n",
        "corr = traindata.corr(method = 'spearman')\n",
        "sns.heatmap(corr, annot = True)\n",
        "plt.title(\"Spearman Correlation\")\n",
        "plt.show()"
      ]
    },
    {
      "cell_type": "code",
      "execution_count": null,
      "metadata": {
        "colab": {
          "base_uri": "https://localhost:8080/"
        },
        "id": "0IWFCYgo3sYD",
        "outputId": "76e8f002-104d-4d04-ab9d-ce8f2acbc423"
      },
      "outputs": [
        {
          "data": {
            "text/plain": [
              "2216"
            ]
          },
          "execution_count": 16,
          "metadata": {},
          "output_type": "execute_result"
        }
      ],
      "source": [
        "# create new dataframs with close column\n",
        "data = traindata.filter(['Close'])\n",
        "\n",
        "#convert dataframe to numpy array\n",
        "dataset = data.values\n",
        "\n",
        "# get the number of roes to train models on \n",
        "training_data_len = math.ceil(len(dataset) * .8) #80%\n",
        "\n",
        "training_data_len"
      ]
    },
    {
      "cell_type": "markdown",
      "metadata": {
        "id": "A5BQjS9i3yOw"
      },
      "source": [
        "# SCALING"
      ]
    },
    {
      "cell_type": "code",
      "execution_count": null,
      "metadata": {
        "id": "UHDDdTMd3vcM"
      },
      "outputs": [],
      "source": [
        "# min max\n",
        "def minMax_dataset(dataset):\n",
        "    # create scaler to scale down all the values to fit between 0 and 1\n",
        "    scalar = MinMaxScaler(feature_range=(0,1))\n",
        "    scaled_data = scalar.fit_transform(dataset)\n",
        "    \n",
        "    return scaled_data\n",
        "\n",
        "# Binarize Data\n",
        "def binarize_dataset(dataset):\n",
        "  # Binarize values equal or less than 0 are marked 0 and all of those above 0 are marked 1\n",
        "    binarizer = Binarizer(threshold = 0.0)#.fit(X)\n",
        "    binarized_data = binarizer.fit_transform(dataset)\n",
        "\n",
        "    return binarized_data\n",
        "\n",
        "# Standardize Data\n",
        "def standardize_dataset(dataset):\n",
        "   # Standardize values with a mean of 0 and a standard deviation of 1\n",
        "     scaler = StandardScaler()#.fit(X)\n",
        "     scaled_data = scaler.fit_transform(dataset)\n",
        "\n",
        "     return scaled_data\n",
        "\n",
        "# Normalize Data\n",
        "def normalize_dataset(dataset):\n",
        "  # Normalize values with a mean of 0 and a standard deviation of 1'\n",
        "    scaler = Normalizer()#.fit(X)\n",
        "    scaled_data = scaler.fit_transform(dataset)\n",
        "\n",
        "    return scaled_data\n",
        "\n",
        "# Quantile scale Data  \n",
        "def quantileScale_dataset(dataset):\n",
        "  # This method transforms the features to follow a uniform or a normal distribution. \n",
        "  # Therefore, for a given feature, this transformation tends to spread out the most frequent values. \n",
        "  # It also reduces the impact of (marginal) outliers: this is therefore a robust preprocessing scheme.\n",
        "    scaler = QuantileTransformer(n_quantiles=10, random_state=0)#.fit(X)\n",
        "    scaled_data = scaler.fit_transform(dataset)\n",
        "\n",
        "    return scaled_data\n",
        "  \n",
        "# MaxAbsScaler\n",
        "def maxAbsScale_data(dataset):\n",
        "  # Scale each feature by its maximum absolute value.\n",
        "    scaler = MaxAbsScaler()\n",
        "    scaled_data = scaler.fit_transform(dataset)\n",
        "\n",
        "    return scaled_data\n",
        "\n",
        "# RobustScaler\n",
        "def robustScale_data(dataset):\n",
        "  # This Scaler removes the median and scales the data according to the quantile range\n",
        "    scaler = RobustScaler()\n",
        "    scaled_data = scaler.fit_transform(dataset)\n",
        "\n",
        "    return scaled_data\n"
      ]
    },
    {
      "cell_type": "markdown",
      "metadata": {
        "id": "fh2vuMcFEp2C"
      },
      "source": [
        "# Split Train, Split Test and Reshape"
      ]
    },
    {
      "cell_type": "code",
      "execution_count": null,
      "metadata": {
        "id": "_3dg3EMRDRfq"
      },
      "outputs": [],
      "source": [
        "from sklearn.model_selection import train_test_split"
      ]
    },
    {
      "cell_type": "code",
      "execution_count": null,
      "metadata": {
        "id": "6aUeFI_I3-IX"
      },
      "outputs": [],
      "source": [
        "# create training dataset \n",
        "# create scaled training dataset \n",
        "\n",
        "def split_train_dataset(scaled_dataset):\n",
        "    \n",
        "    train_data = scaled_dataset[0:training_data_len, :]\n",
        "    \n",
        "    #split data into x_train and y_train datasets \n",
        "    x_train = [] #independent variable \n",
        "    y_train = [] # dependent variable /target variable \"Close\"\n",
        "    \n",
        "    for i in range(60, len(train_data)):\n",
        "        x_train.append(train_data[i-60:i, 0])\n",
        "        y_train.append(train_data[i, 0])\n",
        "        \n",
        "        #if i<=60:\n",
        "            #print(\"X_train\")\n",
        "            #print(x_train)\n",
        "            #print()\n",
        "            #print(\"Y_train\")\n",
        "            #print(y_train)\n",
        "            #print()\n",
        "    \n",
        "    # convert x_train and y_train to numpy arrays for training models \n",
        "    x_train, y_train = np.array(x_train), np.array(y_train)\n",
        "    return x_train, y_train"
      ]
    },
    {
      "cell_type": "code",
      "execution_count": null,
      "metadata": {
        "id": "G5HTczMZ4BMK"
      },
      "outputs": [],
      "source": [
        "# reshape train data for LSTM (LSTM expects data to be threee dimentional)\n",
        "# num samples number of timesteps and num of features \n",
        "def reshape_train(scaled_dataset):\n",
        "\n",
        "    x_train, y_train = split_train_dataset(scaled_dataset)\n",
        "    \n",
        "    # reshape the data\n",
        "    x_train = np.reshape(x_train, (x_train.shape[0],x_train.shape[1],1))\n",
        "\n",
        "    #x_train.shape\n",
        "    \n",
        "    return x_train, y_train"
      ]
    },
    {
      "cell_type": "code",
      "execution_count": null,
      "metadata": {
        "id": "eew9eCwW9if8"
      },
      "outputs": [],
      "source": [
        "# reshape test data for 2 dimensional\n",
        "def reshape_train_2d(scaled_dataset):\n",
        "    x_train, y_train = split_train_dataset(scaled_dataset)\n",
        "    \n",
        "    # reshape the data \n",
        "    x_train = np.reshape(x_train, (x_train.shape[0],x_train.shape[1]))\n",
        "    \n",
        "    return x_train, y_train"
      ]
    },
    {
      "cell_type": "code",
      "execution_count": null,
      "metadata": {
        "colab": {
          "base_uri": "https://localhost:8080/"
        },
        "id": "ZoZ9On4a-cex",
        "outputId": "1f564434-91c7-45eb-c5e3-9761ed0774fa"
      },
      "outputs": [
        {
          "data": {
            "text/plain": [
              "(2156, 60)"
            ]
          },
          "execution_count": 22,
          "metadata": {},
          "output_type": "execute_result"
        }
      ],
      "source": [
        "x_train, y_train = reshape_train_2d(minMax_dataset(dataset))\n",
        "x_train.shape"
      ]
    },
    {
      "cell_type": "code",
      "execution_count": null,
      "metadata": {
        "colab": {
          "base_uri": "https://localhost:8080/"
        },
        "id": "mAa1F-JS4BPi",
        "outputId": "2d3753dc-20d6-4ab4-c42f-6ad48ed7bff8"
      },
      "outputs": [
        {
          "data": {
            "text/plain": [
              "(2156, 60, 1)"
            ]
          },
          "execution_count": 23,
          "metadata": {},
          "output_type": "execute_result"
        }
      ],
      "source": [
        "x_train, y_train = reshape_train(robustScale_data(dataset))\n",
        "\n",
        "x_train.shape"
      ]
    },
    {
      "cell_type": "code",
      "execution_count": null,
      "metadata": {
        "id": "HH0lG2t44BSr"
      },
      "outputs": [],
      "source": [
        "# Create testing dataset\n",
        "def split_test_dataset(scaled_data):\n",
        "    test_data = scaled_data[training_data_len - 60:, :]\n",
        "    \n",
        "    #print(test_data)\n",
        "    \n",
        "    # create x_test and y_test \n",
        "    x_test = []\n",
        "    y_test = dataset[training_data_len:, :] # values for model to predict\n",
        "    \n",
        "    for i in range(60, len(test_data)):\n",
        "        \n",
        "        x_test.append(test_data[i-60:i, 0])\n",
        "        \n",
        "    x_test = np.array(x_test) # convert to numpy array to use in lstm\n",
        "        \n",
        "        \n",
        "    return x_test, y_test"
      ]
    },
    {
      "cell_type": "code",
      "execution_count": null,
      "metadata": {
        "id": "yxUeJv5O4Kg7"
      },
      "outputs": [],
      "source": [
        "# reshape test data for lstm 3 dimensional\n",
        "def reshape_test(scaled_dataset):\n",
        "    x_test, y_test = split_test_dataset(scaled_dataset)\n",
        "    \n",
        "    # reshape the data \n",
        "    x_test = np.reshape(x_test, (x_test.shape[0],x_test.shape[1],1))\n",
        "    \n",
        "    return x_test, y_test\n"
      ]
    },
    {
      "cell_type": "code",
      "execution_count": null,
      "metadata": {
        "id": "cxggCAeY8ud0"
      },
      "outputs": [],
      "source": [
        "# reshape test data for 2 dimensional\n",
        "def reshape_test_2d(scaled_dataset):\n",
        "    x_test, y_test = split_test_dataset(scaled_dataset)\n",
        "    \n",
        "    # reshape the data \n",
        "    x_test = np.reshape(x_test, (x_test.shape[0],x_test.shape[1]))\n",
        "    \n",
        "    return x_test, y_test\n",
        "\n"
      ]
    },
    {
      "cell_type": "code",
      "execution_count": null,
      "metadata": {
        "id": "vk1S6EALC2gq"
      },
      "outputs": [],
      "source": [
        "def split(data):\n",
        "    df = data\n",
        "\n",
        "    # training and testing\n",
        "    c=df.drop('Close',axis=1) \n",
        "    d=df['Close'] \n",
        "    x_train, x_test, y_train, y_test = train_test_split(c,d,test_size=0.30)\n",
        "\n",
        "    return x_train, y_train, x_test, y_test\n",
        "\n"
      ]
    },
    {
      "cell_type": "code",
      "execution_count": null,
      "metadata": {
        "colab": {
          "base_uri": "https://localhost:8080/"
        },
        "id": "0J92vHc_CaGJ",
        "outputId": "2a6db426-1536-4168-d7df-a6f4131534c3"
      },
      "outputs": [
        {
          "data": {
            "text/plain": [
              "(553, 60)"
            ]
          },
          "execution_count": 28,
          "metadata": {},
          "output_type": "execute_result"
        }
      ],
      "source": [
        "x_test, y_test = reshape_test_2d(minMax_dataset(dataset))\n",
        "x_test.shape\n",
        "\n"
      ]
    },
    {
      "cell_type": "code",
      "execution_count": null,
      "metadata": {
        "colab": {
          "base_uri": "https://localhost:8080/"
        },
        "id": "NZWlksCGCvPO",
        "outputId": "4701144a-a6d2-4937-da96-6b9c268079b1"
      },
      "outputs": [
        {
          "data": {
            "text/plain": [
              "(553, 60, 1)"
            ]
          },
          "execution_count": 29,
          "metadata": {},
          "output_type": "execute_result"
        }
      ],
      "source": [
        "x_test, y_test = reshape_test(minMax_dataset(dataset))\n",
        "x_test.shape"
      ]
    },
    {
      "cell_type": "markdown",
      "metadata": {
        "id": "tvHFZxd5VQgq"
      },
      "source": [
        "# Machine learning Models"
      ]
    },
    {
      "cell_type": "code",
      "execution_count": null,
      "metadata": {
        "id": "DY3fZEX64KkD"
      },
      "outputs": [],
      "source": [
        "# Lstm Model\n",
        "\n",
        "def lstm(scaled_data):\n",
        "    x_train, y_train = reshape_train(scaled_data)\n",
        "    x_test, y_test = reshape_test(scaled_data)\n",
        "    \n",
        "    # Build the Model\n",
        "    model = Sequential()\n",
        "    model.add(LSTM(units=50, return_sequences=True, input_shape = (x_train.shape[1], 1)))\n",
        "    model.add(Dropout(0.2))\n",
        "    model.add(LSTM(units=50, return_sequences=True))\n",
        "    model.add(Dropout(0.2))\n",
        "    model.add(LSTM(units=50))\n",
        "    model.add(Dropout(0.2))\n",
        "    model.add(Dense(units=1)) # prediction of the next closing price\n",
        "\n",
        "    # investigate loss functions and optimisers \n",
        "    model.compile(optimizer='adam', loss='mean_squared_error')\n",
        "    # train model\n",
        "    # feed the model 25 epochs and model will see 32 units of the batch size every time\n",
        "    model.fit(x_train, y_train, epochs=25, batch_size=32)\n",
        "    \n",
        "    # get models predicted price values\n",
        "    predicted_prices = model.predict(x_test)\n",
        "    # reverse scaling / inverse transform  to get actual values \n",
        "    scalar = MinMaxScaler(feature_range=(0,1)) # replace this with a conditional statement\n",
        "    scalar.fit_transform(dataset)\n",
        "    # create inverse transform function\n",
        "    predicted_prices = scalar.inverse_transform(predicted_prices)\n",
        "    \n",
        "    # evaluate model\n",
        "    # ger the root mean squared error (RMSE)\n",
        "    # good measure of how well the model predicts the response, standard deviation of residuals, lower values indicate better fit\n",
        "    rmse = np.sqrt(np.mean(predicted_prices - y_test)**2)\n",
        "    print ('root mean squared error (RMSE) for Model')\n",
        "    print(rmse)\n",
        "\n",
        "    # plot data\n",
        "    # plot test prediction\n",
        "    train = data[:training_data_len]\n",
        "    valid = data[training_data_len:]\n",
        "    valid['Predictions'] = predicted_prices\n",
        "    # visualise data\n",
        "    plt.figure(figsize=(16,8))\n",
        "    plt.title('LSTM Model')\n",
        "    plt.xlabel('Date', fontsize=18)\n",
        "    plt.ylabel('Close Price USD($)', fontsize=18)\n",
        "    plt.plot(train['Close'])\n",
        "    plt.plot(valid[['Close', 'Predictions']])\n",
        "    plt.legend(['Train', 'Val', 'Predictions'], loc='lower right')\n",
        "    plt.show()\n",
        "    \n",
        "    return model"
      ]
    },
    {
      "cell_type": "code",
      "execution_count": null,
      "metadata": {
        "colab": {
          "base_uri": "https://localhost:8080/",
          "height": 1000
        },
        "id": "jNbu3rVL4KnK",
        "outputId": "70ab7c98-d378-4b92-f564-e7fd44830d5d"
      },
      "outputs": [
        {
          "name": "stdout",
          "output_type": "stream",
          "text": [
            "Epoch 1/25\n",
            "68/68 [==============================] - 14s 106ms/step - loss: 0.0038\n",
            "Epoch 2/25\n",
            "68/68 [==============================] - 6s 92ms/step - loss: 7.0599e-04\n",
            "Epoch 3/25\n",
            "68/68 [==============================] - 6s 91ms/step - loss: 6.4060e-04\n",
            "Epoch 4/25\n",
            "68/68 [==============================] - 6s 88ms/step - loss: 6.8791e-04\n",
            "Epoch 5/25\n",
            "68/68 [==============================] - 6s 92ms/step - loss: 6.6133e-04\n",
            "Epoch 6/25\n",
            "68/68 [==============================] - 6s 93ms/step - loss: 5.7730e-04\n",
            "Epoch 7/25\n",
            "68/68 [==============================] - 6s 92ms/step - loss: 4.9248e-04\n",
            "Epoch 8/25\n",
            "68/68 [==============================] - 6s 93ms/step - loss: 5.1255e-04\n",
            "Epoch 9/25\n",
            "68/68 [==============================] - 6s 92ms/step - loss: 5.2148e-04\n",
            "Epoch 10/25\n",
            "68/68 [==============================] - 6s 88ms/step - loss: 5.0574e-04\n",
            "Epoch 11/25\n",
            "68/68 [==============================] - 6s 91ms/step - loss: 4.8304e-04\n",
            "Epoch 12/25\n",
            "68/68 [==============================] - 7s 96ms/step - loss: 4.5709e-04\n",
            "Epoch 13/25\n",
            "68/68 [==============================] - 7s 99ms/step - loss: 4.7793e-04\n",
            "Epoch 14/25\n",
            "68/68 [==============================] - 6s 95ms/step - loss: 4.1493e-04\n",
            "Epoch 15/25\n",
            "68/68 [==============================] - 6s 94ms/step - loss: 5.3335e-04\n",
            "Epoch 16/25\n",
            "68/68 [==============================] - 6s 89ms/step - loss: 4.0496e-04\n",
            "Epoch 17/25\n",
            "68/68 [==============================] - 6s 92ms/step - loss: 4.0505e-04\n",
            "Epoch 18/25\n",
            "68/68 [==============================] - 6s 95ms/step - loss: 4.0620e-04\n",
            "Epoch 19/25\n",
            "68/68 [==============================] - 6s 93ms/step - loss: 3.5388e-04\n",
            "Epoch 20/25\n",
            "68/68 [==============================] - 6s 92ms/step - loss: 3.8421e-04\n",
            "Epoch 21/25\n",
            "68/68 [==============================] - 6s 91ms/step - loss: 3.6661e-04\n",
            "Epoch 22/25\n",
            "68/68 [==============================] - 6s 91ms/step - loss: 3.1158e-04\n",
            "Epoch 23/25\n",
            "68/68 [==============================] - 7s 107ms/step - loss: 3.6077e-04\n",
            "Epoch 24/25\n",
            "68/68 [==============================] - 7s 104ms/step - loss: 3.2280e-04\n",
            "Epoch 25/25\n",
            "68/68 [==============================] - 7s 105ms/step - loss: 3.2592e-04\n",
            "root mean squared error (RMSE) for Model\n",
            "4.0233052755566225\n"
          ]
        },
        {
          "data": {
            "image/png": "[encoded data removed]",
            "text/plain": [
              "<Figure size 1152x576 with 1 Axes>"
            ]
          },
          "metadata": {},
          "output_type": "display_data"
        },
        {
          "data": {
            "text/plain": [
              "<keras.engine.sequential.Sequential at 0x7f0d3ee2e590>"
            ]
          },
          "execution_count": 31,
          "metadata": {},
          "output_type": "execute_result"
        }
      ],
      "source": [
        "lstm(minMax_dataset(dataset))"
      ]
    },
    {
      "cell_type": "code",
      "execution_count": null,
      "metadata": {
        "colab": {
          "background_save": true
        },
        "id": "Y91BFX7AN8Gk",
        "outputId": "544209ca-c641-42aa-a956-18d113a9698e"
      },
      "outputs": [
        {
          "name": "stdout",
          "output_type": "stream",
          "text": [
            "Epoch 1/25\n",
            "68/68 [==============================] - 16s 134ms/step - loss: 0.0636\n",
            "Epoch 2/25\n",
            "68/68 [==============================] - 6s 95ms/step - loss: 0.0087\n",
            "Epoch 3/25\n",
            "68/68 [==============================] - 7s 97ms/step - loss: 0.0080\n",
            "Epoch 4/25\n",
            "68/68 [==============================] - 8s 115ms/step - loss: 0.0071\n",
            "Epoch 5/25\n",
            "68/68 [==============================] - 7s 97ms/step - loss: 0.0063\n",
            "Epoch 6/25\n",
            "68/68 [==============================] - 7s 96ms/step - loss: 0.0072\n",
            "Epoch 7/25\n",
            "68/68 [==============================] - 6s 94ms/step - loss: 0.0062\n",
            "Epoch 8/25\n",
            "68/68 [==============================] - 6s 94ms/step - loss: 0.0058\n",
            "Epoch 9/25\n",
            "68/68 [==============================] - 6s 94ms/step - loss: 0.0056\n",
            "Epoch 10/25\n",
            "68/68 [==============================] - 6s 94ms/step - loss: 0.0052\n",
            "Epoch 11/25\n",
            "68/68 [==============================] - 6s 94ms/step - loss: 0.0052\n",
            "Epoch 12/25\n",
            "68/68 [==============================] - 7s 97ms/step - loss: 0.0054\n",
            "Epoch 13/25\n",
            "68/68 [==============================] - 6s 95ms/step - loss: 0.0053\n",
            "Epoch 14/25\n",
            "68/68 [==============================] - 6s 94ms/step - loss: 0.0052\n",
            "Epoch 15/25\n",
            "68/68 [==============================] - 6s 95ms/step - loss: 0.0047\n",
            "Epoch 16/25\n",
            "68/68 [==============================] - 6s 95ms/step - loss: 0.0046\n",
            "Epoch 17/25\n",
            "68/68 [==============================] - 6s 93ms/step - loss: 0.0045\n",
            "Epoch 18/25\n",
            "68/68 [==============================] - 6s 94ms/step - loss: 0.0043\n",
            "Epoch 19/25\n",
            "68/68 [==============================] - 6s 95ms/step - loss: 0.0043\n",
            "Epoch 20/25\n",
            "68/68 [==============================] - 7s 96ms/step - loss: 0.0043\n",
            "Epoch 21/25\n",
            "68/68 [==============================] - 7s 96ms/step - loss: 0.0043\n",
            "Epoch 22/25\n",
            "68/68 [==============================] - 7s 96ms/step - loss: 0.0039\n",
            "Epoch 23/25\n",
            "68/68 [==============================] - 7s 98ms/step - loss: 0.0039\n",
            "Epoch 24/25\n",
            "68/68 [==============================] - 7s 99ms/step - loss: 0.0039\n",
            "Epoch 25/25\n",
            "68/68 [==============================] - 7s 99ms/step - loss: 0.0039\n",
            "root mean squared error (RMSE) for Model\n",
            "41.98986381820485\n"
          ]
        },
        {
          "data": {
            "image/png": "[encoded data removed]",
            "text/plain": [
              "<Figure size 1152x576 with 1 Axes>"
            ]
          },
          "metadata": {},
          "output_type": "display_data"
        },
        {
          "data": {
            "text/plain": [
              "<keras.engine.sequential.Sequential at 0x7f0d376bcfd0>"
            ]
          },
          "execution_count": 32,
          "metadata": {},
          "output_type": "execute_result"
        }
      ],
      "source": [
        "\n",
        "binarize_dataset(dataset)\n",
        "\n",
        "# Standardize Data\n",
        " standardize_dataset(dataset):\n",
        "  \n",
        "\n",
        "# Normalize Data\n",
        "normalize_dataset(dataset):\n",
        "  # Normalize values with a mean of 0 and a standard deviation of 1'\n",
        "    scaler = Normalizer()#.fit(X)\n",
        "    scaled_data = scaler.fit_transform(dataset)\n",
        "\n",
        "    return scaled_data\n",
        "\n",
        "# Quantile scale Data  \n",
        "def quantileScale_dataset(dataset):\n",
        "  # This method transforms the features to follow a uniform or a normal distribution. \n",
        "  # Therefore, for a given feature, this transformation tends to spread out the most frequent values. \n",
        "  # It also reduces the impact of (marginal) outliers: this is therefore a robust preprocessing scheme.\n",
        "    scaler = QuantileTransformer(n_quantiles=10, random_state=0)#.fit(X)\n",
        "    scaled_data = scaler.fit_transform(dataset)\n",
        "\n",
        "    return scaled_data\n",
        "  \n",
        "# MaxAbsScaler\n",
        "def maxAbsScale_data(dataset):\n",
        "  # Scale each feature by its maximum absolute value.\n",
        "    scaler = MaxAbsScaler()\n",
        "    scaled_data = scaler.fit_transform(dataset)\n",
        "\n",
        "    return scaled_data\n",
        "\n",
        "# RobustScaler\n",
        "def robustScale_data(dataset):"
      ]
    },
    {
      "cell_type": "code",
      "execution_count": null,
      "metadata": {
        "id": "yJWdczDN4Kue"
      },
      "outputs": [],
      "source": [
        "#Logistic Regression (LR), Linear Discriminant Analysis (LDA),\n",
        "# K-Nearest Neighbors (KNN), Classification and Regression Trees (CART),\n",
        "# Naïve Bayes (NB), Support Vector Machine (SVM), XGBoost Algorithm (XGB),\n",
        "# Decision Tree Classifier (DT), Random Forest Classifier (RF), Gradient Boost (GB), \n",
        "# AdaBoost (AB), and Extra Tree classifier (ET"
      ]
    },
    {
      "cell_type": "code",
      "execution_count": null,
      "metadata": {
        "id": "_tB_b_jEJ4nP"
      },
      "outputs": [],
      "source": [
        "# Logistic Regression\n",
        "def stock_logistic_regression():\n",
        "    #s = start_date() \n",
        "    #e = end_date()\n",
        "    #sym = input_symbol()\n",
        "    #df = yf.download(sym, s, e)\n",
        "    df = traindata\n",
        " \n",
        "   # df = df.drop(['Date'], axis=1)\n",
        "    X = df.loc[:, df.columns != 'Close']\n",
        "    y = np.where (df['Close'].shift(-1) > df['Close'],1,-1)\n",
        "\n",
        "    split = int(0.7*len(df))\n",
        "    X_train, X_test, y_train, y_test = X[:split], X[split:], y[:split], y[split:]\n",
        "    model = LogisticRegression()\n",
        "    model = model.fit(X_train,y_train)\n",
        "    predicted = model.predict(X_test)\n",
        "    print(metrics.confusion_matrix(y_test, predicted))\n",
        "    print(metrics.classification_report(y_test, predicted))\n",
        "    print(model.score(X_test,y_test))\n",
        "    cross_val = cross_val_score(LogisticRegression(), X, y, scoring='accuracy', cv=10)\n",
        "    print(cross_val)\n",
        "    print(cross_val.mean())\n",
        "\n",
        "    rmse = np.sqrt(np.mean(predicted - y_test)**2)\n",
        "    print ('root mean squared error (RMSE) for Model')\n",
        "    print(rmse)\n",
        "\n",
        "    print('____________Summary:____________')      \n",
        "    print('Accuracy Score:', model.score(X_test,y_test))\n",
        "    print ('root mean squared error (RMSE) for Model: ', rmse)\n",
        "    print(\"\")\n",
        "\n",
        "    return"
      ]
    },
    {
      "cell_type": "code",
      "execution_count": null,
      "metadata": {
        "colab": {
          "base_uri": "https://localhost:8080/"
        },
        "id": "UdYX8PCvLeRZ",
        "outputId": "ae3e5d27-9418-45f6-ad85-12f7cf13b834"
      },
      "outputs": [
        {
          "name": "stdout",
          "output_type": "stream",
          "text": [
            "[[  0 393]\n",
            " [  0 438]]\n",
            "              precision    recall  f1-score   support\n",
            "\n",
            "          -1       0.00      0.00      0.00       393\n",
            "           1       0.53      1.00      0.69       438\n",
            "\n",
            "    accuracy                           0.53       831\n",
            "   macro avg       0.26      0.50      0.35       831\n",
            "weighted avg       0.28      0.53      0.36       831\n",
            "\n",
            "0.5270758122743683\n",
            "[0.53429603 0.53429603 0.53429603 0.53429603 0.53429603 0.53429603\n",
            " 0.53068592 0.53068592 0.53068592 0.5326087 ]\n",
            "0.5330442630670225\n",
            "root mean squared error (RMSE) for Model\n",
            "0.9458483754512635\n",
            "____________Summary:____________\n",
            "Accuracy Score: 0.5270758122743683\n",
            "root mean squared error (RMSE) for Model:  0.9458483754512635\n",
            "\n"
          ]
        }
      ],
      "source": [
        "stock_logistic_regression()"
      ]
    },
    {
      "cell_type": "code",
      "execution_count": null,
      "metadata": {
        "id": "sRJkf7_BM4fL"
      },
      "outputs": [],
      "source": [
        "# Linear Regression\n",
        "def stock_linear_regression():\n",
        "   \n",
        "    df = traindata\n",
        "    n = len(df.index)\n",
        "    X = np.array(df['Open']).reshape(n,-1)\n",
        "    Y = np.array(df['Adj Close']).reshape(n,-1)\n",
        "    \n",
        "    X = minMax_dataset(X)\n",
        "    lr = LinearRegression()\n",
        "    lr.fit(X, Y)\n",
        "    predicted = lr.predict(X)\n",
        "    \n",
        "    #plt.figure(figsize=(12,8))\n",
        "    #plt.scatter(df['Adj Close'], lr.predict(X))\n",
        "    #plt.plot(X, lr.predict(X), color = 'red')\n",
        "    #plt.xlabel('Prices')\n",
        "    #plt.ylabel('Predicted Prices')\n",
        "    #plt.grid()\n",
        "    #plt.title(' Prices vs Predicted Prices')\n",
        "    #plt.show()\n",
        "    print('____________Summary:____________')      \n",
        "    print('Estimate intercept coefficient:', lr.intercept_)\n",
        "    print('Number of coefficients:', len(lr.coef_))\n",
        "    print('Accuracy Score:', lr.score(X, Y))\n",
        "    print(\"\")\n",
        "  \n",
        "    return"
      ]
    },
    {
      "cell_type": "code",
      "execution_count": null,
      "metadata": {
        "colab": {
          "base_uri": "https://localhost:8080/"
        },
        "id": "tJBDQtDJNxtR",
        "outputId": "d4148be5-2678-4740-de23-e2db6b14aa86"
      },
      "outputs": [
        {
          "name": "stdout",
          "output_type": "stream",
          "text": [
            "____________Summary:____________\n",
            "Estimate intercept coefficient: [8.09031703]\n",
            "Number of coefficients: 1\n",
            "Accuracy Score: 0.9994903171079828\n",
            "\n"
          ]
        }
      ],
      "source": [
        "stock_linear_regression()"
      ]
    },
    {
      "cell_type": "code",
      "execution_count": null,
      "metadata": {
        "id": "_JUnC9OJ077A"
      },
      "outputs": [],
      "source": [
        "# Decision tree\n",
        "def decision_tree():\n",
        "\n",
        "    df = traindata\n",
        " \n",
        "   # df = df.drop(['Date'], axis=1)\n",
        "    X = df.loc[:, df.columns != 'Close']\n",
        "    y = np.where (df['Close'].shift(-1) > df['Close'],1,-1)\n",
        "\n",
        "    split = int(0.7*len(df))\n",
        "    X_train, X_test, y_train, y_test = X[:split], X[split:], y[:split], y[split:]\n",
        "    model = DecisionTreeRegressor()\n",
        "    model = model.fit(X_train,y_train)\n",
        "    predicted = model.predict(X_test)\n",
        "    print(metrics.confusion_matrix(y_test, predicted))\n",
        "    print(metrics.classification_report(y_test, predicted))\n",
        "    print(model.score(X_test,y_test))\n",
        "    cross_val = cross_val_score(DecisionTreeRegressor(), X, y, scoring='accuracy', cv=10)\n",
        "    print(cross_val)\n",
        "    print(cross_val.mean())\n",
        "\n",
        "    rmse = np.sqrt(np.mean(predicted - y_test)**2)\n",
        "    print ('root mean squared error (RMSE) for Model')\n",
        "    print(rmse)\n",
        "\n",
        "    print('____________Summary:____________')      \n",
        "    print('Accuracy Score:', model.score(X_test,y_test))\n",
        "    print ('root mean squared error (RMSE) for Model: ', rmse)\n",
        "    print(\"\")\n",
        "\n",
        "    return\n"
      ]
    },
    {
      "cell_type": "code",
      "execution_count": null,
      "metadata": {
        "colab": {
          "base_uri": "https://localhost:8080/"
        },
        "id": "agPfmnda3WAq",
        "outputId": "dff4a872-74ff-4438-b5d4-669facd74bfc"
      },
      "outputs": [
        {
          "name": "stdout",
          "output_type": "stream",
          "text": [
            "[[226 167]\n",
            " [267 171]]\n",
            "              precision    recall  f1-score   support\n",
            "\n",
            "          -1       0.46      0.58      0.51       393\n",
            "           1       0.51      0.39      0.44       438\n",
            "\n",
            "    accuracy                           0.48       831\n",
            "   macro avg       0.48      0.48      0.48       831\n",
            "weighted avg       0.48      0.48      0.47       831\n",
            "\n",
            "-1.095193279654223\n",
            "[0.50180505 0.49097473 0.46209386 0.50180505 0.44765343 0.55234657\n",
            " 0.44043321 0.50902527 0.5234657  0.47826087]\n",
            "0.490786375765186\n",
            "root mean squared error (RMSE) for Model\n",
            "0.24067388688327315\n",
            "____________Summary:____________\n",
            "Accuracy Score: -1.095193279654223\n",
            "root mean squared error (RMSE) for Model:  0.24067388688327315\n",
            "\n"
          ]
        }
      ],
      "source": [
        "decision_tree()"
      ]
    },
    {
      "cell_type": "code",
      "execution_count": null,
      "metadata": {
        "id": "Wkiuays_TG9l"
      },
      "outputs": [],
      "source": [
        "# Support Vector Regression\n",
        "def stock_svr():\n",
        "   \n",
        "    df = traindata\n",
        "    dates = np.reshape(df.index,(len(df.index), 1)) # convert to 1xn dimension\n",
        "\n",
        "    X = df.loc[:, df.columns != 'Close']\n",
        "    y = np.where (df['Close'].shift(-1) > df['Close'],1,-1)\n",
        "\n",
        "    X = np.reshape(X,(len(X), 1))\n",
        "    prices = df['Close']\n",
        "    svr_lin  = SVR(kernel='linear', C=1e3)\n",
        "    svr_poly = SVR(kernel='poly', C=1e3, degree=2)\n",
        "    svr_rbf = SVR(kernel='rbf', C=1e3, gamma=0.1)\n",
        "    \n",
        "    # Fit regression model\n",
        "    svr_lin .fit(dates, prices)\n",
        "    svr_poly.fit(dates, prices)\n",
        "    svr_rbf.fit(dates, prices)\n",
        "    \n",
        "    plt.figure(figsize=(12,8))\n",
        "    plt.scatter(dates, prices, c='k', label='Data')\n",
        "    plt.plot(dates, svr_lin.predict(dates), c='g', label='Linear model')\n",
        "    plt.plot(dates, svr_rbf.predict(dates), c='r', label='RBF model')    \n",
        "    plt.plot(dates, svr_poly.predict(dates), c='b', label='Polynomial model')\n",
        "    plt.xlabel('Date')\n",
        "    plt.ylabel('Price')\n",
        "    plt.title('Support Vector Regression')\n",
        "    plt.legend()\n",
        "    plt.show()\n",
        "    print('____________Summary:____________')   \n",
        "    print('Linear Model:', svr_rbf.predict(x)[0])\n",
        "    print('RBF Model:', svr_lin.predict(x)[0])\n",
        "    print('Polynomial Model:', svr_poly.predict(x)[0])\n",
        "    print(\"\")\n",
        "    return"
      ]
    },
    {
      "cell_type": "code",
      "execution_count": null,
      "metadata": {
        "colab": {
          "base_uri": "https://localhost:8080/",
          "height": 353
        },
        "id": "iEkjaOVVTnXo",
        "outputId": "e1a786a8-62bc-4dd1-de54-af5210b8b4bf"
      },
      "outputs": [
        {
          "ename": "ValueError",
          "evalue": "ignored",
          "output_type": "error",
          "traceback": [
            "\u001b[0;31m---------------------------------------------------------------------------\u001b[0m",
            "\u001b[0;31mValueError\u001b[0m                                Traceback (most recent call last)",
            "\u001b[0;32m<ipython-input-73-ef3539d7674d>\u001b[0m in \u001b[0;36m<module>\u001b[0;34m\u001b[0m\n\u001b[0;32m----> 1\u001b[0;31m \u001b[0mstock_svr\u001b[0m\u001b[0;34m(\u001b[0m\u001b[0;34m)\u001b[0m\u001b[0;34m\u001b[0m\u001b[0;34m\u001b[0m\u001b[0m\n\u001b[0m",
            "\u001b[0;32m<ipython-input-72-f2dc5ed12ee1>\u001b[0m in \u001b[0;36mstock_svr\u001b[0;34m()\u001b[0m\n\u001b[1;32m      8\u001b[0m     \u001b[0my\u001b[0m \u001b[0;34m=\u001b[0m \u001b[0mnp\u001b[0m\u001b[0;34m.\u001b[0m\u001b[0mwhere\u001b[0m \u001b[0;34m(\u001b[0m\u001b[0mdf\u001b[0m\u001b[0;34m[\u001b[0m\u001b[0;34m'Close'\u001b[0m\u001b[0;34m]\u001b[0m\u001b[0;34m.\u001b[0m\u001b[0mshift\u001b[0m\u001b[0;34m(\u001b[0m\u001b[0;34m-\u001b[0m\u001b[0;36m1\u001b[0m\u001b[0;34m)\u001b[0m \u001b[0;34m>\u001b[0m \u001b[0mdf\u001b[0m\u001b[0;34m[\u001b[0m\u001b[0;34m'Close'\u001b[0m\u001b[0;34m]\u001b[0m\u001b[0;34m,\u001b[0m\u001b[0;36m1\u001b[0m\u001b[0;34m,\u001b[0m\u001b[0;34m-\u001b[0m\u001b[0;36m1\u001b[0m\u001b[0;34m)\u001b[0m\u001b[0;34m\u001b[0m\u001b[0;34m\u001b[0m\u001b[0m\n\u001b[1;32m      9\u001b[0m \u001b[0;34m\u001b[0m\u001b[0m\n\u001b[0;32m---> 10\u001b[0;31m     \u001b[0mX\u001b[0m \u001b[0;34m=\u001b[0m \u001b[0mnp\u001b[0m\u001b[0;34m.\u001b[0m\u001b[0mreshape\u001b[0m\u001b[0;34m(\u001b[0m\u001b[0mX\u001b[0m\u001b[0;34m,\u001b[0m\u001b[0;34m(\u001b[0m\u001b[0mlen\u001b[0m\u001b[0;34m(\u001b[0m\u001b[0mX\u001b[0m\u001b[0;34m)\u001b[0m\u001b[0;34m,\u001b[0m \u001b[0;36m1\u001b[0m\u001b[0;34m)\u001b[0m\u001b[0;34m)\u001b[0m\u001b[0;34m\u001b[0m\u001b[0;34m\u001b[0m\u001b[0m\n\u001b[0m\u001b[1;32m     11\u001b[0m     \u001b[0mprices\u001b[0m \u001b[0;34m=\u001b[0m \u001b[0mdf\u001b[0m\u001b[0;34m[\u001b[0m\u001b[0;34m'Close'\u001b[0m\u001b[0;34m]\u001b[0m\u001b[0;34m\u001b[0m\u001b[0;34m\u001b[0m\u001b[0m\n\u001b[1;32m     12\u001b[0m     \u001b[0msvr_lin\u001b[0m  \u001b[0;34m=\u001b[0m \u001b[0mSVR\u001b[0m\u001b[0;34m(\u001b[0m\u001b[0mkernel\u001b[0m\u001b[0;34m=\u001b[0m\u001b[0;34m'linear'\u001b[0m\u001b[0;34m,\u001b[0m \u001b[0mC\u001b[0m\u001b[0;34m=\u001b[0m\u001b[0;36m1e3\u001b[0m\u001b[0;34m)\u001b[0m\u001b[0;34m\u001b[0m\u001b[0;34m\u001b[0m\u001b[0m\n",
            "\u001b[0;32m<__array_function__ internals>\u001b[0m in \u001b[0;36mreshape\u001b[0;34m(*args, **kwargs)\u001b[0m\n",
            "\u001b[0;32m/usr/local/lib/python3.7/dist-packages/numpy/core/fromnumeric.py\u001b[0m in \u001b[0;36mreshape\u001b[0;34m(a, newshape, order)\u001b[0m\n\u001b[1;32m    296\u001b[0m            [5, 6]])\n\u001b[1;32m    297\u001b[0m     \"\"\"\n\u001b[0;32m--> 298\u001b[0;31m     \u001b[0;32mreturn\u001b[0m \u001b[0m_wrapfunc\u001b[0m\u001b[0;34m(\u001b[0m\u001b[0ma\u001b[0m\u001b[0;34m,\u001b[0m \u001b[0;34m'reshape'\u001b[0m\u001b[0;34m,\u001b[0m \u001b[0mnewshape\u001b[0m\u001b[0;34m,\u001b[0m \u001b[0morder\u001b[0m\u001b[0;34m=\u001b[0m\u001b[0morder\u001b[0m\u001b[0;34m)\u001b[0m\u001b[0;34m\u001b[0m\u001b[0;34m\u001b[0m\u001b[0m\n\u001b[0m\u001b[1;32m    299\u001b[0m \u001b[0;34m\u001b[0m\u001b[0m\n\u001b[1;32m    300\u001b[0m \u001b[0;34m\u001b[0m\u001b[0m\n",
            "\u001b[0;32m/usr/local/lib/python3.7/dist-packages/numpy/core/fromnumeric.py\u001b[0m in \u001b[0;36m_wrapfunc\u001b[0;34m(obj, method, *args, **kwds)\u001b[0m\n\u001b[1;32m     52\u001b[0m     \u001b[0mbound\u001b[0m \u001b[0;34m=\u001b[0m \u001b[0mgetattr\u001b[0m\u001b[0;34m(\u001b[0m\u001b[0mobj\u001b[0m\u001b[0;34m,\u001b[0m \u001b[0mmethod\u001b[0m\u001b[0;34m,\u001b[0m \u001b[0;32mNone\u001b[0m\u001b[0;34m)\u001b[0m\u001b[0;34m\u001b[0m\u001b[0;34m\u001b[0m\u001b[0m\n\u001b[1;32m     53\u001b[0m     \u001b[0;32mif\u001b[0m \u001b[0mbound\u001b[0m \u001b[0;32mis\u001b[0m \u001b[0;32mNone\u001b[0m\u001b[0;34m:\u001b[0m\u001b[0;34m\u001b[0m\u001b[0;34m\u001b[0m\u001b[0m\n\u001b[0;32m---> 54\u001b[0;31m         \u001b[0;32mreturn\u001b[0m \u001b[0m_wrapit\u001b[0m\u001b[0;34m(\u001b[0m\u001b[0mobj\u001b[0m\u001b[0;34m,\u001b[0m \u001b[0mmethod\u001b[0m\u001b[0;34m,\u001b[0m \u001b[0;34m*\u001b[0m\u001b[0margs\u001b[0m\u001b[0;34m,\u001b[0m \u001b[0;34m**\u001b[0m\u001b[0mkwds\u001b[0m\u001b[0;34m)\u001b[0m\u001b[0;34m\u001b[0m\u001b[0;34m\u001b[0m\u001b[0m\n\u001b[0m\u001b[1;32m     55\u001b[0m \u001b[0;34m\u001b[0m\u001b[0m\n\u001b[1;32m     56\u001b[0m     \u001b[0;32mtry\u001b[0m\u001b[0;34m:\u001b[0m\u001b[0;34m\u001b[0m\u001b[0;34m\u001b[0m\u001b[0m\n",
            "\u001b[0;32m/usr/local/lib/python3.7/dist-packages/numpy/core/fromnumeric.py\u001b[0m in \u001b[0;36m_wrapit\u001b[0;34m(obj, method, *args, **kwds)\u001b[0m\n\u001b[1;32m     41\u001b[0m     \u001b[0;32mexcept\u001b[0m \u001b[0mAttributeError\u001b[0m\u001b[0;34m:\u001b[0m\u001b[0;34m\u001b[0m\u001b[0;34m\u001b[0m\u001b[0m\n\u001b[1;32m     42\u001b[0m         \u001b[0mwrap\u001b[0m \u001b[0;34m=\u001b[0m \u001b[0;32mNone\u001b[0m\u001b[0;34m\u001b[0m\u001b[0;34m\u001b[0m\u001b[0m\n\u001b[0;32m---> 43\u001b[0;31m     \u001b[0mresult\u001b[0m \u001b[0;34m=\u001b[0m \u001b[0mgetattr\u001b[0m\u001b[0;34m(\u001b[0m\u001b[0masarray\u001b[0m\u001b[0;34m(\u001b[0m\u001b[0mobj\u001b[0m\u001b[0;34m)\u001b[0m\u001b[0;34m,\u001b[0m \u001b[0mmethod\u001b[0m\u001b[0;34m)\u001b[0m\u001b[0;34m(\u001b[0m\u001b[0;34m*\u001b[0m\u001b[0margs\u001b[0m\u001b[0;34m,\u001b[0m \u001b[0;34m**\u001b[0m\u001b[0mkwds\u001b[0m\u001b[0;34m)\u001b[0m\u001b[0;34m\u001b[0m\u001b[0;34m\u001b[0m\u001b[0m\n\u001b[0m\u001b[1;32m     44\u001b[0m     \u001b[0;32mif\u001b[0m \u001b[0mwrap\u001b[0m\u001b[0;34m:\u001b[0m\u001b[0;34m\u001b[0m\u001b[0;34m\u001b[0m\u001b[0m\n\u001b[1;32m     45\u001b[0m         \u001b[0;32mif\u001b[0m \u001b[0;32mnot\u001b[0m \u001b[0misinstance\u001b[0m\u001b[0;34m(\u001b[0m\u001b[0mresult\u001b[0m\u001b[0;34m,\u001b[0m \u001b[0mmu\u001b[0m\u001b[0;34m.\u001b[0m\u001b[0mndarray\u001b[0m\u001b[0;34m)\u001b[0m\u001b[0;34m:\u001b[0m\u001b[0;34m\u001b[0m\u001b[0;34m\u001b[0m\u001b[0m\n",
            "\u001b[0;31mValueError\u001b[0m: cannot reshape array of size 13845 into shape (2769,1)"
          ]
        }
      ],
      "source": [
        "stock_svr()"
      ]
    }
  ],
  "metadata": {
    "colab": {
      "provenance": [],
      "collapsed_sections": [
        "A5BQjS9i3yOw",
        "fh2vuMcFEp2C"
      ]
    },
    "kernelspec": {
      "display_name": "Python 3",
      "name": "python3"
    },
    "language_info": {
      "name": "python"
    }
  },
  "nbformat": 4,
  "nbformat_minor": 0
}